{
 "cells": [
  {
   "cell_type": "markdown",
   "metadata": {
    "id": "SArgW_Vq-uTh"
   },
   "source": [
    "# **Milestone 4**\n",
    "\n",
    "Descriptions - To be done"
   ]
  },
  {
   "cell_type": "markdown",
   "metadata": {
    "id": "IlFM4hig-uTj"
   },
   "source": [
    "## Preparation Steps"
   ]
  },
  {
   "cell_type": "code",
   "execution_count": 1,
   "metadata": {
    "id": "E3alYkjM-uTk"
   },
   "outputs": [],
   "source": [
    "# Import all necessary python packages\n",
    "\n",
    "import os\n",
    "import math\n",
    "import numpy as np\n",
    "import pandas as pd\n",
    "import seaborn as sns\n",
    "from IPython.display import display\n",
    "\n",
    "import matplotlib.pyplot as plt\n",
    "plt.rcParams['figure.figsize'] = [10,6]\n",
    "\n",
    "import warnings \n",
    "warnings.filterwarnings('ignore')"
   ]
  },
  {
   "cell_type": "code",
   "execution_count": 2,
   "metadata": {
    "id": "4JEBC9tZEZel"
   },
   "outputs": [],
   "source": [
    "#Importing the dataset\n",
    "\n",
    "df = pd.read_csv('input/walmart-dataset/Walmart.csv')\n"
   ]
  },
  {
   "cell_type": "markdown",
   "metadata": {
    "id": "GfrfDK0P-uT5"
   },
   "source": [
    "## <font color = 'blue'> 1. Inspecting the Dataset </font>\n"
   ]
  },
  {
   "cell_type": "code",
   "execution_count": 3,
   "metadata": {
    "id": "x7YLk8-UQ5XO"
   },
   "outputs": [
    {
     "name": "stdout",
     "output_type": "stream",
     "text": [
      "Dataset structure:\n",
      "<class 'pandas.core.frame.DataFrame'>\n",
      "RangeIndex: 6435 entries, 0 to 6434\n",
      "Data columns (total 8 columns):\n",
      " #   Column        Non-Null Count  Dtype  \n",
      "---  ------        --------------  -----  \n",
      " 0   Store         6435 non-null   int64  \n",
      " 1   Date          6435 non-null   object \n",
      " 2   Weekly_Sales  6435 non-null   float64\n",
      " 3   Holiday_Flag  6435 non-null   int64  \n",
      " 4   Temperature   6435 non-null   float64\n",
      " 5   Fuel_Price    6435 non-null   float64\n",
      " 6   CPI           6435 non-null   float64\n",
      " 7   Unemployment  6435 non-null   float64\n",
      "dtypes: float64(5), int64(2), object(1)\n",
      "memory usage: 402.3+ KB\n",
      "None\n"
     ]
    }
   ],
   "source": [
    "# Inspect dataset structure\n",
    "print('Dataset structure:')\n",
    "print(df.info())\n"
   ]
  },
  {
   "cell_type": "code",
   "execution_count": 4,
   "metadata": {},
   "outputs": [
    {
     "name": "stdout",
     "output_type": "stream",
     "text": [
      "\n",
      "Data types:\n",
      "Store             int64\n",
      "Date             object\n",
      "Weekly_Sales    float64\n",
      "Holiday_Flag      int64\n",
      "Temperature     float64\n",
      "Fuel_Price      float64\n",
      "CPI             float64\n",
      "Unemployment    float64\n",
      "dtype: object\n"
     ]
    }
   ],
   "source": [
    "# Check data types\n",
    "print('\\nData types:')\n",
    "print(df.dtypes)\n"
   ]
  },
  {
   "cell_type": "code",
   "execution_count": 5,
   "metadata": {},
   "outputs": [
    {
     "name": "stdout",
     "output_type": "stream",
     "text": [
      "\n",
      "Summary statistics:\n",
      "             Store  Weekly_Sales  Holiday_Flag  Temperature   Fuel_Price  \\\n",
      "count  6435.000000  6.435000e+03   6435.000000  6435.000000  6435.000000   \n",
      "mean     23.000000  1.046965e+06      0.069930    60.663782     3.358607   \n",
      "std      12.988182  5.643666e+05      0.255049    18.444933     0.459020   \n",
      "min       1.000000  2.099862e+05      0.000000    -2.060000     2.472000   \n",
      "25%      12.000000  5.533501e+05      0.000000    47.460000     2.933000   \n",
      "50%      23.000000  9.607460e+05      0.000000    62.670000     3.445000   \n",
      "75%      34.000000  1.420159e+06      0.000000    74.940000     3.735000   \n",
      "max      45.000000  3.818686e+06      1.000000   100.140000     4.468000   \n",
      "\n",
      "               CPI  Unemployment  \n",
      "count  6435.000000   6435.000000  \n",
      "mean    171.578394      7.999151  \n",
      "std      39.356712      1.875885  \n",
      "min     126.064000      3.879000  \n",
      "25%     131.735000      6.891000  \n",
      "50%     182.616521      7.874000  \n",
      "75%     212.743293      8.622000  \n",
      "max     227.232807     14.313000  \n"
     ]
    }
   ],
   "source": [
    "# Summarize numerical columns\n",
    "print('\\nSummary statistics:')\n",
    "print(df.describe())"
   ]
  },
  {
   "cell_type": "code",
   "execution_count": 6,
   "metadata": {},
   "outputs": [
    {
     "name": "stdout",
     "output_type": "stream",
     "text": [
      "\n",
      "Missing values:\n",
      "Store           0\n",
      "Date            0\n",
      "Weekly_Sales    0\n",
      "Holiday_Flag    0\n",
      "Temperature     0\n",
      "Fuel_Price      0\n",
      "CPI             0\n",
      "Unemployment    0\n",
      "dtype: int64\n"
     ]
    }
   ],
   "source": [
    "# Check for missing values\n",
    "print('\\nMissing values:')\n",
    "print(df.isnull().sum())"
   ]
  },
  {
   "cell_type": "code",
   "execution_count": 7,
   "metadata": {},
   "outputs": [
    {
     "name": "stdout",
     "output_type": "stream",
     "text": [
      "\n",
      "Potential outliers:\n",
      "Store: count    6435.000000\n",
      "mean       23.000000\n",
      "std        12.988182\n",
      "min         1.000000\n",
      "25%        12.000000\n",
      "50%        23.000000\n",
      "75%        34.000000\n",
      "99%        45.000000\n",
      "max        45.000000\n",
      "Name: Store, dtype: float64\n",
      "Weekly_Sales: count    6.435000e+03\n",
      "mean     1.046965e+06\n",
      "std      5.643666e+05\n",
      "min      2.099862e+05\n",
      "25%      5.533501e+05\n",
      "50%      9.607460e+05\n",
      "75%      1.420159e+06\n",
      "99%      2.404035e+06\n",
      "max      3.818686e+06\n",
      "Name: Weekly_Sales, dtype: float64\n",
      "Holiday_Flag: count    6435.000000\n",
      "mean        0.069930\n",
      "std         0.255049\n",
      "min         0.000000\n",
      "25%         0.000000\n",
      "50%         0.000000\n",
      "75%         0.000000\n",
      "99%         1.000000\n",
      "max         1.000000\n",
      "Name: Holiday_Flag, dtype: float64\n",
      "Temperature: count    6435.000000\n",
      "mean       60.663782\n",
      "std        18.444933\n",
      "min        -2.060000\n",
      "25%        47.460000\n",
      "50%        62.670000\n",
      "75%        74.940000\n",
      "99%        93.190000\n",
      "max       100.140000\n",
      "Name: Temperature, dtype: float64\n",
      "Fuel_Price: count    6435.000000\n",
      "mean        3.358607\n",
      "std         0.459020\n",
      "min         2.472000\n",
      "25%         2.933000\n",
      "50%         3.445000\n",
      "75%         3.735000\n",
      "99%         4.203000\n",
      "max         4.468000\n",
      "Name: Fuel_Price, dtype: float64\n",
      "CPI: count    6435.000000\n",
      "mean      171.578394\n",
      "std        39.356712\n",
      "min       126.064000\n",
      "25%       131.735000\n",
      "50%       182.616521\n",
      "75%       212.743293\n",
      "99%       225.470151\n",
      "max       227.232807\n",
      "Name: CPI, dtype: float64\n",
      "Unemployment: count    6435.000000\n",
      "mean        7.999151\n",
      "std         1.875885\n",
      "min         3.879000\n",
      "25%         6.891000\n",
      "50%         7.874000\n",
      "75%         8.622000\n",
      "99%        14.180000\n",
      "max        14.313000\n",
      "Name: Unemployment, dtype: float64\n"
     ]
    }
   ],
   "source": [
    "# Identify potential outliers\n",
    "print('\\nPotential outliers:')\n",
    "for col in df.columns:\n",
    "    if not df[col].dtype == 'object':\n",
    "        print(f'{col}: {df[col].describe(percentiles=[.25, .75, .99])}')"
   ]
  },
  {
   "cell_type": "code",
   "execution_count": 8,
   "metadata": {},
   "outputs": [
    {
     "data": {
      "text/html": [
       "<div>\n",
       "<style scoped>\n",
       "    .dataframe tbody tr th:only-of-type {\n",
       "        vertical-align: middle;\n",
       "    }\n",
       "\n",
       "    .dataframe tbody tr th {\n",
       "        vertical-align: top;\n",
       "    }\n",
       "\n",
       "    .dataframe thead th {\n",
       "        text-align: right;\n",
       "    }\n",
       "</style>\n",
       "<table border=\"1\" class=\"dataframe\">\n",
       "  <thead>\n",
       "    <tr style=\"text-align: right;\">\n",
       "      <th></th>\n",
       "      <th>Store</th>\n",
       "      <th>Weekly_Sales</th>\n",
       "      <th>Holiday_Flag</th>\n",
       "      <th>Temperature</th>\n",
       "      <th>Fuel_Price</th>\n",
       "      <th>CPI</th>\n",
       "      <th>Unemployment</th>\n",
       "      <th>weekday</th>\n",
       "      <th>month</th>\n",
       "      <th>year</th>\n",
       "    </tr>\n",
       "  </thead>\n",
       "  <tbody>\n",
       "    <tr>\n",
       "      <th>0</th>\n",
       "      <td>1</td>\n",
       "      <td>1643690.90</td>\n",
       "      <td>0</td>\n",
       "      <td>42.31</td>\n",
       "      <td>2.572</td>\n",
       "      <td>211.096358</td>\n",
       "      <td>8.106</td>\n",
       "      <td>6</td>\n",
       "      <td>5</td>\n",
       "      <td>2010</td>\n",
       "    </tr>\n",
       "    <tr>\n",
       "      <th>1</th>\n",
       "      <td>1</td>\n",
       "      <td>1641957.44</td>\n",
       "      <td>1</td>\n",
       "      <td>38.51</td>\n",
       "      <td>2.548</td>\n",
       "      <td>211.242170</td>\n",
       "      <td>8.106</td>\n",
       "      <td>3</td>\n",
       "      <td>12</td>\n",
       "      <td>2010</td>\n",
       "    </tr>\n",
       "    <tr>\n",
       "      <th>2</th>\n",
       "      <td>1</td>\n",
       "      <td>1611968.17</td>\n",
       "      <td>0</td>\n",
       "      <td>39.93</td>\n",
       "      <td>2.514</td>\n",
       "      <td>211.289143</td>\n",
       "      <td>8.106</td>\n",
       "      <td>4</td>\n",
       "      <td>2</td>\n",
       "      <td>2010</td>\n",
       "    </tr>\n",
       "    <tr>\n",
       "      <th>3</th>\n",
       "      <td>1</td>\n",
       "      <td>1409727.59</td>\n",
       "      <td>0</td>\n",
       "      <td>46.63</td>\n",
       "      <td>2.561</td>\n",
       "      <td>211.319643</td>\n",
       "      <td>8.106</td>\n",
       "      <td>4</td>\n",
       "      <td>2</td>\n",
       "      <td>2010</td>\n",
       "    </tr>\n",
       "    <tr>\n",
       "      <th>4</th>\n",
       "      <td>1</td>\n",
       "      <td>1554806.68</td>\n",
       "      <td>0</td>\n",
       "      <td>46.50</td>\n",
       "      <td>2.625</td>\n",
       "      <td>211.350143</td>\n",
       "      <td>8.106</td>\n",
       "      <td>0</td>\n",
       "      <td>5</td>\n",
       "      <td>2010</td>\n",
       "    </tr>\n",
       "  </tbody>\n",
       "</table>\n",
       "</div>"
      ],
      "text/plain": [
       "   Store  Weekly_Sales  Holiday_Flag  Temperature  Fuel_Price         CPI  \\\n",
       "0      1    1643690.90             0        42.31       2.572  211.096358   \n",
       "1      1    1641957.44             1        38.51       2.548  211.242170   \n",
       "2      1    1611968.17             0        39.93       2.514  211.289143   \n",
       "3      1    1409727.59             0        46.63       2.561  211.319643   \n",
       "4      1    1554806.68             0        46.50       2.625  211.350143   \n",
       "\n",
       "   Unemployment  weekday  month  year  \n",
       "0         8.106        6      5  2010  \n",
       "1         8.106        3     12  2010  \n",
       "2         8.106        4      2  2010  \n",
       "3         8.106        4      2  2010  \n",
       "4         8.106        0      5  2010  "
      ]
     },
     "metadata": {},
     "output_type": "display_data"
    }
   ],
   "source": [
    "# Reframing the columns\n",
    "\n",
    "# Convert 'Date' to datetime format\n",
    "df.Date = pd.to_datetime(df.Date)\n",
    "\n",
    "# Extract weekday, month, and year from 'Date'\n",
    "df['weekday'] = df.Date.dt.weekday\n",
    "df['month'] = df.Date.dt.month\n",
    "df['year'] = df.Date.dt.year\n",
    "\n",
    "# Drop 'Date' column\n",
    "df.drop('Date', axis=1, inplace=True)\n",
    "\n",
    "# Define target and feature columns\n",
    "target = 'Weekly_Sales'\n",
    "features = [col for col in df.columns if col != target]\n",
    "\n",
    "# Create a copy of the original dataframe\n",
    "original_df = df.copy(deep=True)\n",
    "\n",
    "# Display the first few rows of the reframed dataframe\n",
    "display(df.head())"
   ]
  },
  {
   "cell_type": "code",
   "execution_count": 9,
   "metadata": {},
   "outputs": [
    {
     "name": "stdout",
     "output_type": "stream",
     "text": [
      "<class 'pandas.core.frame.DataFrame'>\n",
      "RangeIndex: 6435 entries, 0 to 6434\n",
      "Data columns (total 10 columns):\n",
      " #   Column        Non-Null Count  Dtype  \n",
      "---  ------        --------------  -----  \n",
      " 0   Store         6435 non-null   int64  \n",
      " 1   Weekly_Sales  6435 non-null   float64\n",
      " 2   Holiday_Flag  6435 non-null   int64  \n",
      " 3   Temperature   6435 non-null   float64\n",
      " 4   Fuel_Price    6435 non-null   float64\n",
      " 5   CPI           6435 non-null   float64\n",
      " 6   Unemployment  6435 non-null   float64\n",
      " 7   weekday       6435 non-null   int64  \n",
      " 8   month         6435 non-null   int64  \n",
      " 9   year          6435 non-null   int64  \n",
      "dtypes: float64(5), int64(5)\n",
      "memory usage: 502.9 KB\n"
     ]
    }
   ],
   "source": [
    "#Checking the dtypes of all the columns\n",
    "\n",
    "df.info()"
   ]
  },
  {
   "cell_type": "code",
   "execution_count": 10,
   "metadata": {},
   "outputs": [
    {
     "data": {
      "text/plain": [
       "Holiday_Flag       2\n",
       "year               3\n",
       "weekday            7\n",
       "month             12\n",
       "Store             45\n",
       "Unemployment     349\n",
       "Fuel_Price       892\n",
       "CPI             2145\n",
       "Temperature     3528\n",
       "Weekly_Sales    6435\n",
       "dtype: int64"
      ]
     },
     "execution_count": 10,
     "metadata": {},
     "output_type": "execute_result"
    }
   ],
   "source": [
    "#Checking number of unique rows in each feature\n",
    "\n",
    "df.nunique().sort_values()"
   ]
  },
  {
   "cell_type": "code",
   "execution_count": 11,
   "metadata": {},
   "outputs": [
    {
     "name": "stdout",
     "output_type": "stream",
     "text": [
      "\n",
      "\u001b[1mInference:\u001b[0m The Dataset has 5 numerical & 4 categorical features.\n"
     ]
    }
   ],
   "source": [
    "# Check the number of unique rows in each feature\n",
    "unique_values = df[features].nunique()\n",
    "\n",
    "# Identify numerical and categorical features\n",
    "numerical_features = unique_values[unique_values <= 45].index.tolist()\n",
    "categorical_features = unique_values[unique_values > 45].index.tolist()\n",
    "\n",
    "print('\\n\\033[1mInference:\\033[0m The Dataset has {} numerical & {} categorical features.'.format(len(numerical_features), len(categorical_features)))\n"
   ]
  },
  {
   "cell_type": "code",
   "execution_count": 12,
   "metadata": {},
   "outputs": [
    {
     "data": {
      "text/html": [
       "<div>\n",
       "<style scoped>\n",
       "    .dataframe tbody tr th:only-of-type {\n",
       "        vertical-align: middle;\n",
       "    }\n",
       "\n",
       "    .dataframe tbody tr th {\n",
       "        vertical-align: top;\n",
       "    }\n",
       "\n",
       "    .dataframe thead th {\n",
       "        text-align: right;\n",
       "    }\n",
       "</style>\n",
       "<table border=\"1\" class=\"dataframe\">\n",
       "  <thead>\n",
       "    <tr style=\"text-align: right;\">\n",
       "      <th></th>\n",
       "      <th>Store</th>\n",
       "      <th>Weekly_Sales</th>\n",
       "      <th>Holiday_Flag</th>\n",
       "      <th>Temperature</th>\n",
       "      <th>Fuel_Price</th>\n",
       "      <th>CPI</th>\n",
       "      <th>Unemployment</th>\n",
       "      <th>weekday</th>\n",
       "      <th>month</th>\n",
       "      <th>year</th>\n",
       "    </tr>\n",
       "  </thead>\n",
       "  <tbody>\n",
       "    <tr>\n",
       "      <th>count</th>\n",
       "      <td>6435.000000</td>\n",
       "      <td>6.435000e+03</td>\n",
       "      <td>6435.000000</td>\n",
       "      <td>6435.000000</td>\n",
       "      <td>6435.000000</td>\n",
       "      <td>6435.000000</td>\n",
       "      <td>6435.000000</td>\n",
       "      <td>6435.000000</td>\n",
       "      <td>6435.000000</td>\n",
       "      <td>6435.000000</td>\n",
       "    </tr>\n",
       "    <tr>\n",
       "      <th>mean</th>\n",
       "      <td>23.000000</td>\n",
       "      <td>1.046965e+06</td>\n",
       "      <td>0.069930</td>\n",
       "      <td>60.663782</td>\n",
       "      <td>3.358607</td>\n",
       "      <td>171.578394</td>\n",
       "      <td>7.999151</td>\n",
       "      <td>3.573427</td>\n",
       "      <td>6.475524</td>\n",
       "      <td>2010.965035</td>\n",
       "    </tr>\n",
       "    <tr>\n",
       "      <th>std</th>\n",
       "      <td>12.988182</td>\n",
       "      <td>5.643666e+05</td>\n",
       "      <td>0.255049</td>\n",
       "      <td>18.444933</td>\n",
       "      <td>0.459020</td>\n",
       "      <td>39.356712</td>\n",
       "      <td>1.875885</td>\n",
       "      <td>1.426581</td>\n",
       "      <td>3.321797</td>\n",
       "      <td>0.797019</td>\n",
       "    </tr>\n",
       "    <tr>\n",
       "      <th>min</th>\n",
       "      <td>1.000000</td>\n",
       "      <td>2.099862e+05</td>\n",
       "      <td>0.000000</td>\n",
       "      <td>-2.060000</td>\n",
       "      <td>2.472000</td>\n",
       "      <td>126.064000</td>\n",
       "      <td>3.879000</td>\n",
       "      <td>0.000000</td>\n",
       "      <td>1.000000</td>\n",
       "      <td>2010.000000</td>\n",
       "    </tr>\n",
       "    <tr>\n",
       "      <th>25%</th>\n",
       "      <td>12.000000</td>\n",
       "      <td>5.533501e+05</td>\n",
       "      <td>0.000000</td>\n",
       "      <td>47.460000</td>\n",
       "      <td>2.933000</td>\n",
       "      <td>131.735000</td>\n",
       "      <td>6.891000</td>\n",
       "      <td>4.000000</td>\n",
       "      <td>4.000000</td>\n",
       "      <td>2010.000000</td>\n",
       "    </tr>\n",
       "    <tr>\n",
       "      <th>50%</th>\n",
       "      <td>23.000000</td>\n",
       "      <td>9.607460e+05</td>\n",
       "      <td>0.000000</td>\n",
       "      <td>62.670000</td>\n",
       "      <td>3.445000</td>\n",
       "      <td>182.616521</td>\n",
       "      <td>7.874000</td>\n",
       "      <td>4.000000</td>\n",
       "      <td>6.000000</td>\n",
       "      <td>2011.000000</td>\n",
       "    </tr>\n",
       "    <tr>\n",
       "      <th>75%</th>\n",
       "      <td>34.000000</td>\n",
       "      <td>1.420159e+06</td>\n",
       "      <td>0.000000</td>\n",
       "      <td>74.940000</td>\n",
       "      <td>3.735000</td>\n",
       "      <td>212.743293</td>\n",
       "      <td>8.622000</td>\n",
       "      <td>4.000000</td>\n",
       "      <td>9.000000</td>\n",
       "      <td>2012.000000</td>\n",
       "    </tr>\n",
       "    <tr>\n",
       "      <th>max</th>\n",
       "      <td>45.000000</td>\n",
       "      <td>3.818686e+06</td>\n",
       "      <td>1.000000</td>\n",
       "      <td>100.140000</td>\n",
       "      <td>4.468000</td>\n",
       "      <td>227.232807</td>\n",
       "      <td>14.313000</td>\n",
       "      <td>6.000000</td>\n",
       "      <td>12.000000</td>\n",
       "      <td>2012.000000</td>\n",
       "    </tr>\n",
       "  </tbody>\n",
       "</table>\n",
       "</div>"
      ],
      "text/plain": [
       "             Store  Weekly_Sales  Holiday_Flag  Temperature   Fuel_Price  \\\n",
       "count  6435.000000  6.435000e+03   6435.000000  6435.000000  6435.000000   \n",
       "mean     23.000000  1.046965e+06      0.069930    60.663782     3.358607   \n",
       "std      12.988182  5.643666e+05      0.255049    18.444933     0.459020   \n",
       "min       1.000000  2.099862e+05      0.000000    -2.060000     2.472000   \n",
       "25%      12.000000  5.533501e+05      0.000000    47.460000     2.933000   \n",
       "50%      23.000000  9.607460e+05      0.000000    62.670000     3.445000   \n",
       "75%      34.000000  1.420159e+06      0.000000    74.940000     3.735000   \n",
       "max      45.000000  3.818686e+06      1.000000   100.140000     4.468000   \n",
       "\n",
       "               CPI  Unemployment      weekday        month         year  \n",
       "count  6435.000000   6435.000000  6435.000000  6435.000000  6435.000000  \n",
       "mean    171.578394      7.999151     3.573427     6.475524  2010.965035  \n",
       "std      39.356712      1.875885     1.426581     3.321797     0.797019  \n",
       "min     126.064000      3.879000     0.000000     1.000000  2010.000000  \n",
       "25%     131.735000      6.891000     4.000000     4.000000  2010.000000  \n",
       "50%     182.616521      7.874000     4.000000     6.000000  2011.000000  \n",
       "75%     212.743293      8.622000     4.000000     9.000000  2012.000000  \n",
       "max     227.232807     14.313000     6.000000    12.000000  2012.000000  "
      ]
     },
     "metadata": {},
     "output_type": "display_data"
    }
   ],
   "source": [
    "#Checking the stats of all the columns\n",
    "\n",
    "display(df.describe())"
   ]
  },
  {
   "cell_type": "code",
   "execution_count": 13,
   "metadata": {},
   "outputs": [
    {
     "data": {
      "image/png": "[encoded data removed]",
      "text/plain": [
       "<Figure size 720x360 with 1 Axes>"
      ]
     },
     "metadata": {
      "needs_background": "light"
     },
     "output_type": "display_data"
    }
   ],
   "source": [
    "#Let us first analyze the distribution of the target variable\n",
    "\n",
    "import seaborn as sns\n",
    "import matplotlib.pyplot as plt\n",
    "\n",
    "# Extract the target variable\n",
    "target = 'Weekly_Sales'\n",
    "\n",
    "# Create the plot\n",
    "plt.figure(figsize=(10, 5))\n",
    "\n",
    "# Kernel density estimation plot\n",
    "sns.kdeplot(df[target], color='blue', shade=True, label='Density')\n",
    "\n",
    "# Rugplot to show individual data points\n",
    "sns.rugplot(df[target], color='gray', alpha=0.5)\n",
    "\n",
    "# Quantile lines\n",
    "plt.axvline(df[target].quantile(0.25), color='green', linestyle='dashed', linewidth=2, label='Q1')\n",
    "plt.axvline(df[target].quantile(0.50), color='orange', linestyle='dashed', linewidth=2, label='Median')\n",
    "plt.axvline(df[target].quantile(0.75), color='red', linestyle='dashed', linewidth=2, label='Q3')\n",
    "\n",
    "# Logarithmic x-axis\n",
    "plt.xscale('log')\n",
    "\n",
    "# Labels and title\n",
    "plt.xlabel('Weekly Sales ($)')\n",
    "plt.ylabel('Density')\n",
    "plt.title('Distribution of Weekly Sales')\n",
    "plt.legend()\n",
    "\n",
    "# Show the plot\n",
    "plt.show()\n"
   ]
  },
  {
   "cell_type": "code",
   "execution_count": 14,
   "metadata": {},
   "outputs": [
    {
     "data": {
      "image/png": "[encoded data removed]",
      "text/plain": [
       "<Figure size 864x1080 with 6 Axes>"
      ]
     },
     "metadata": {
      "needs_background": "light"
     },
     "output_type": "display_data"
    }
   ],
   "source": [
    "#Visualising the categorical features \n",
    "\n",
    "import matplotlib.pyplot as plt\n",
    "import seaborn as sns\n",
    "\n",
    "# Get the list of categorical features\n",
    "categorical_features = df[features].columns[df[features].nunique() <= 45]\n",
    "\n",
    "# Define the number of rows and columns for subplots\n",
    "num_rows = math.ceil(len(categorical_features) / 3)\n",
    "num_cols = 3\n",
    "\n",
    "# Create the figure\n",
    "fig, axes = plt.subplots(num_rows, num_cols, figsize=(12, 15))\n",
    "\n",
    "# Iterate over categorical features and create subplots\n",
    "for i, feature in enumerate(categorical_features):\n",
    "    row = i // num_cols\n",
    "    col = i % num_cols\n",
    "\n",
    "    # Create the subplot\n",
    "    ax = axes[row, col]\n",
    "\n",
    "    # Countplot for the categorical feature\n",
    "    sns.countplot(df[feature], ax=ax)\n",
    "\n",
    "    # Set subplot title and labels\n",
    "    ax.set_title(feature)\n",
    "    ax.set_xlabel('Unique Values')\n",
    "    ax.set_ylabel('Count')\n",
    "\n",
    "# Adjust subplot layout and display the figure\n",
    "plt.tight_layout()\n",
    "plt.show()\n"
   ]
  },
  {
   "cell_type": "code",
   "execution_count": 15,
   "metadata": {},
   "outputs": [
    {
     "ename": "IndexError",
     "evalue": "too many indices for array: array is 1-dimensional, but 2 were indexed",
     "output_type": "error",
     "traceback": [
      "\u001b[0;31m---------------------------------------------------------------------------\u001b[0m",
      "\u001b[0;31mIndexError\u001b[0m                                Traceback (most recent call last)",
      "\u001b[0;32m<ipython-input-15-2fd9cec8038f>\u001b[0m in \u001b[0;36m<module>\u001b[0;34m\u001b[0m\n\u001b[1;32m     21\u001b[0m \u001b[0;34m\u001b[0m\u001b[0m\n\u001b[1;32m     22\u001b[0m     \u001b[0;31m# Create the subplot\u001b[0m\u001b[0;34m\u001b[0m\u001b[0;34m\u001b[0m\u001b[0;34m\u001b[0m\u001b[0m\n\u001b[0;32m---> 23\u001b[0;31m     \u001b[0max\u001b[0m \u001b[0;34m=\u001b[0m \u001b[0maxes\u001b[0m\u001b[0;34m[\u001b[0m\u001b[0mrow\u001b[0m\u001b[0;34m,\u001b[0m \u001b[0mcol\u001b[0m\u001b[0;34m]\u001b[0m\u001b[0;34m\u001b[0m\u001b[0;34m\u001b[0m\u001b[0m\n\u001b[0m\u001b[1;32m     24\u001b[0m \u001b[0;34m\u001b[0m\u001b[0m\n\u001b[1;32m     25\u001b[0m     \u001b[0;31m# Distribution plot with adjusted bin size\u001b[0m\u001b[0;34m\u001b[0m\u001b[0;34m\u001b[0m\u001b[0;34m\u001b[0m\u001b[0m\n",
      "\u001b[0;31mIndexError\u001b[0m: too many indices for array: array is 1-dimensional, but 2 were indexed"
     ]
    },
    {
     "data": {
      "image/png": "[encoded data removed]",
      "text/plain": [
       "<Figure size 1080x1080 with 4 Axes>"
      ]
     },
     "metadata": {
      "needs_background": "light"
     },
     "output_type": "display_data"
    }
   ],
   "source": [
    "import matplotlib.pyplot as plt\n",
    "import seaborn as sns\n",
    "\n",
    "# Get the list of numerical features\n",
    "numerical_features = df[features].columns[df[features].nunique() > 45]\n",
    "\n",
    "# Define the number of rows and columns for subplots\n",
    "num_rows = math.ceil(len(numerical_features) / 4)\n",
    "num_cols = 4\n",
    "\n",
    "# Color palette for distribution plots\n",
    "color_palette = sns.color_palette('hls', len(numerical_features))\n",
    "\n",
    "# Create a figure for distribution plots\n",
    "fig, axes = plt.subplots(num_rows, num_cols, figsize=(15, 15))\n",
    "\n",
    "# Iterate over numerical features and create distribution plots\n",
    "for i, feature in enumerate(numerical_features):\n",
    "    row = i // num_cols\n",
    "    col = i % num_cols\n",
    "\n",
    "    # Create the subplot\n",
    "    ax = axes[row, col]\n",
    "\n",
    "    # Distribution plot with adjusted bin size\n",
    "    sns.distplot(df[feature], ax=ax, hist_kws=dict(edgecolor=\"black\", linewidth=2), bins=20, color=color_palette[i])\n",
    "\n",
    "    # Set subplot title and labels\n",
    "    ax.set_title(feature)\n",
    "    ax.set_xlabel(feature)\n",
    "    ax.set_ylabel('Density')\n",
    "\n",
    "# Adjust subplot layout and display the figure\n",
    "plt.tight_layout()\n",
    "plt.show()\n",
    "\n",
    "# Create a figure for boxplots\n",
    "fig, axes = plt.subplots(num_rows, num_cols, figsize=(15, 15))\n",
    "\n",
    "# Iterate over numerical features and create boxplots\n",
    "for i, feature in enumerate(numerical_features):\n",
    "    row = i // num_cols\n",
    "    col = i % num_cols\n",
    "\n",
    "    # Create the subplot\n",
    "    ax = axes[row, col]\n",
    "\n",
    "    # Boxplot with customized aesthetics\n",
    "    df.boxplot(feature, ax=ax)\n",
    "\n",
    "    # Set subplot title and labels\n",
    "    ax.set_title(feature)\n",
    "    ax.set_xlabel('')\n",
    "\n",
    "# Tight layout and display\n",
    "plt.tight_layout()\n",
    "plt.show()"
   ]
  },
  {
   "cell_type": "code",
   "execution_count": null,
   "metadata": {},
   "outputs": [],
   "source": [
    "#Understanding the relationship between all the features\n",
    "\n",
    "g = sns.pairplot(df)\n",
    "plt.title('Pairplots for all the Feature')\n",
    "g.map_upper(sns.kdeplot, levels=4, color=\".2\")\n",
    "plt.show()"
   ]
  },
  {
   "cell_type": "code",
   "execution_count": null,
   "metadata": {},
   "outputs": [],
   "source": [
    "# Create a copy of the original dataframe to preserve the original data\n",
    "original_df = df.copy(deep=True)\n",
    "\n",
    "# Check for duplicate rows\n",
    "duplicates_exist = df.duplicated().any()\n",
    "\n",
    "# Remove duplicate rows if they exist\n",
    "if duplicates_exist:\n",
    "    print('\\n\\033[1mRemoving duplicate rows...')\n",
    "    df.drop_duplicates(inplace=True)\n",
    "\n",
    "    # Calculate the number of duplicates removed\n",
    "    num_duplicates_removed = original_df.shape[0] - df.shape[0]\n",
    "\n",
    "    # Print a message indicating the number of duplicates removed\n",
    "    print(f'\\n\\033[1mNumber of duplicates removed/fixed: {num_duplicates_removed}')\n",
    "\n",
    "# If there are no duplicates, print an informative message\n",
    "else:\n",
    "    print('\\n\\033[1mInference:\\033[0m The dataset doesn\\'t have any duplicates')\n"
   ]
  },
  {
   "cell_type": "code",
   "execution_count": null,
   "metadata": {},
   "outputs": [],
   "source": [
    "#Check for empty elements\n",
    "\n",
    "nvc = pd.DataFrame(df.isnull().sum().sort_values(), columns=['Total Null Values'])\n",
    "nvc['Percentage'] = round(nvc['Total Null Values']/df.shape[0],3)*100\n",
    "print(nvc)"
   ]
  },
  {
   "cell_type": "code",
   "execution_count": null,
   "metadata": {},
   "outputs": [],
   "source": [
    "# Check for empty elements\n",
    "missing_values = df.isnull().sum().reset_index().rename(columns={'index': 'Feature', 'isnull': 'Total Missing Values'})\n",
    "missing_values['Percentage Missing Values'] = round(missing_values['Total Missing Values'] / df.shape[0], 3) * 100\n",
    "\n",
    "print(missing_values)\n"
   ]
  },
  {
   "cell_type": "code",
   "execution_count": null,
   "metadata": {},
   "outputs": [],
   "source": [
    "# Create a copy of the original dataframe\n",
    "df3 = df.copy()\n",
    "\n",
    "# Identify categorical columns with non-zero missing values\n",
    "non_zero_missing_categorical_columns = nvc[nvc['Percentage'] != 0].index.tolist()\n",
    "\n",
    "# Separate columns for one-hot encoding and dummy encoding\n",
    "one_hot_columns = [i for i in categorical_features if i in non_zero_missing_categorical_columns and df3[i].nunique() == 2]\n",
    "dummy_columns = [i for i in categorical_features if i in non_zero_missing_categorical_columns and df3[i].nunique() > 2]\n",
    "\n",
    "# Perform one-hot encoding for columns with two unique values\n",
    "if len(one_hot_columns) > 0:\n",
    "    print(\"\\n\\033[1mOne-Hot Encoding on features:\")\n",
    "    for col in one_hot_columns:\n",
    "        print(col)\n",
    "        df3[col] = pd.get_dummies(df3[col], drop_first=True, prefix=col)\n",
    "\n",
    "# Perform dummy encoding for columns with more than two unique values\n",
    "if len(dummy_columns) > 0:\n",
    "    print(\"\\n\\033[1mDummy Encoding on features:\")\n",
    "    for col in dummy_columns:\n",
    "        print(col)\n",
    "        df3 = pd.concat([df3.drop([col], axis=1), pd.DataFrame(pd.get_dummies(df3[col], drop_first=True, prefix=col))], axis=1)\n",
    "\n",
    "print(df3.shape)\n"
   ]
  },
  {
   "cell_type": "code",
   "execution_count": null,
   "metadata": {},
   "outputs": [],
   "source": []
  },
  {
   "cell_type": "markdown",
   "metadata": {
    "id": "YMEcdAp3-uT-"
   },
   "source": [
    "##  <font color = 'blue'> 2. IQR Outlier Removal </font>\n",
    "\n"
   ]
  },
  {
   "cell_type": "code",
   "execution_count": null,
   "metadata": {},
   "outputs": [],
   "source": [
    "# Create a copy of the original dataframe\n",
    "df1 = df3.copy()\n",
    "\n",
    "# Define features for outlier removal\n",
    "features1 = nf\n",
    "\n",
    "# Remove outliers using IQR method\n",
    "for col in features1:\n",
    "    # Calculate IQR more efficiently\n",
    "    q1 = df1[col].quantile(0.25)\n",
    "    q3 = df1[col].quantile(0.75)\n",
    "    iqr = q3 - q1\n",
    "\n",
    "    # Filter data within 1.5 IQR of quartiles\n",
    "    df1 = df1[df1[col] <= (q3 + 1.5 * iqr)]\n",
    "    df1 = df1[df1[col] >= (q1 - 1.5 * iqr)]\n",
    "\n",
    "    # Reset index after each filtering\n",
    "    df1 = df1.reset_index(drop=True)\n",
    "\n",
    "# Display the head of the processed dataset\n",
    "display(df1.head())\n",
    "\n",
    "# Print informative messages about outlier removal\n",
    "print(\"\\n\\033[1mInference:\\033[0m\\nBefore outlier removal, the dataset had {} samples.\".format(df3.shape[0]))\n",
    "print(\"After outlier removal, the dataset now has {} samples.\".format(df1.shape[0]))\n"
   ]
  },
  {
   "cell_type": "markdown",
   "metadata": {
    "id": "YMEcdAp3-uT-"
   },
   "source": [
    "##  <font color = 'blue'> 3. Missing Values Imputation for Data Preprocessing </font>\n",
    "\n"
   ]
  },
  {
   "cell_type": "code",
   "execution_count": null,
   "metadata": {},
   "outputs": [],
   "source": [
    "# 1. Missing Values Assessment\n",
    "# Identify features with missing values in the dataset\n",
    "features_with_missing_values = df_pca.columns[df_pca.isnull().any()].tolist()\n",
    "\n",
    "# Quantify the extent of missing data for each relevant feature\n",
    "missing_values_summary = df_pca[features_with_missing_values].isnull().sum()\n",
    "missing_values_percentage = (missing_values_summary / len(df_pca)) * 100\n",
    "\n",
    "# Print missing values summary\n",
    "print(\"\\nFeatures with Missing Values:\")\n",
    "print(features_with_missing_values)\n",
    "print(\"\\nMissing Values Summary:\")\n",
    "print(missing_values_summary)\n",
    "print(\"\\nMissing Values Percentage:\")\n",
    "print(missing_values_percentage)\n",
    "\n",
    "# 2. Imputation Techniques\n",
    "# Research and propose suitable imputation techniques\n",
    "# In this example, we'll use SimpleImputer with mean strategy\n",
    "imputation_strategy = 'mean'\n",
    "imputer = SimpleImputer(strategy=imputation_strategy)\n",
    "\n",
    "# 3. Implementation\n",
    "# Integrate the selected imputation technique(s) into the data preprocessing pipeline\n",
    "# Impute missing values for all features with missing values in df_pca\n",
    "df_pca_imputed = df_pca.copy()\n",
    "df_pca_imputed[features_with_missing_values] = imputer.fit_transform(df_pca[features_with_missing_values])\n",
    "\n",
    "# Ensure documentation is updated to reflect the imputation process\n",
    "\n",
    "# 4. Evaluation\n",
    "# Assess the impact of imputation on the dataset statistics and distribution\n",
    "print(\"\\nDataset Statistics Before Imputation:\")\n",
    "print(df_pca.describe())\n",
    "\n",
    "print(\"\\nDataset Statistics After Imputation:\")\n",
    "print(df_pca_imputed.describe())\n",
    "\n",
    "# Compare the model performance before and after imputation\n",
    "# Assuming you have a target variable named 'target_column'\n",
    "# If your target variable is not directly available, you should modify this part accordingly\n",
    "\n",
    "# Before imputation\n",
    "X_train, X_test, y_train, y_test = train_test_split(df_pca.drop('target_column', axis=1), df_pca['target_column'], test_size=0.2, random_state=42)\n",
    "model_before_imputation = RandomForestRegressor(random_state=42)\n",
    "model_before_imputation.fit(X_train, y_train)\n",
    "predictions_before_imputation = model_before_imputation.predict(X_test)\n",
    "mae_before_imputation = mean_absolute_error(y_test, predictions_before_imputation)\n",
    "\n",
    "# After imputation\n",
    "X_train_imputed, X_test_imputed, y_train_imputed, y_test_imputed = train_test_split(df_pca_imputed.drop('target_column', axis=1), df_pca_imputed['target_column'], test_size=0.2, random_state=42)\n",
    "model_after_imputation = RandomForestRegressor(random_state=42)\n",
    "model_after_imputation.fit(X_train_imputed, y_train_imputed)\n",
    "predictions_after_imputation = model_after_imputation.predict(X_test_imputed)\n",
    "mae_after_imputation = mean_absolute_error(y_test_imputed, predictions_after_imputation)\n",
    "\n",
    "print(\"\\nModel Performance Comparison:\")\n",
    "print(f\"MAE Before Imputation: {mae_before_imputation}\")\n",
    "print(f\"MAE After Imputation: {mae_after_imputation}\")"
   ]
  },
  {
   "cell_type": "markdown",
   "metadata": {
    "id": "YMEcdAp3-uT-"
   },
   "source": [
    "##  <font color = 'blue'> 4. Implementation of Cross-Validation for Model Selection </font>"
   ]
  },
  {
   "cell_type": "code",
   "execution_count": null,
   "metadata": {},
   "outputs": [],
   "source": [
    "# Assuming df_pca_imputed is the DataFrame after PCA and missing values imputation\n",
    "# If df_pca_imputed is not directly available, you should modify this part accordingly\n",
    "\n",
    "# Assuming 'target_column' is the target variable for modeling\n",
    "# If your target variable has a different name, make sure to modify this part accordingly\n",
    "\n",
    "# 1. Current Model Evaluation Review\n",
    "# Understand the existing methods used for evaluating regression models (R2 and RMSE scores)\n",
    "# Document the strengths and limitations of the current evaluation process\n",
    "\n",
    "def evaluate_model(model, X, y_true):\n",
    "    y_pred = model.predict(X)\n",
    "    rmse = sqrt(mean_squared_error(y_true, y_pred))\n",
    "    r2 = r2_score(y_true, y_pred)\n",
    "    return rmse, r2\n",
    "\n",
    "# 2. Cross-Validation Implementation\n",
    "# Research and choose a suitable cross-validation technique (e.g., k-fold cross-validation)\n",
    "# Implement cross-validation in the model selection phase\n",
    "\n",
    "# Assuming 'your_model' is the model you want to use for cross-validation\n",
    "# If you are using a different model, replace 'your_model' with the actual model\n",
    "\n",
    "model = RandomForestRegressor(random_state=42)  # Replace with your actual model\n",
    "\n",
    "# Choose a suitable cross-validation technique (e.g., k-fold cross-validation)\n",
    "# In this example, we use 5-fold cross-validation\n",
    "cv_results = cross_val_score(model, df_pca_imputed.drop('target_column', axis=1), df_pca_imputed['target_column'],\n",
    "                             scoring=make_scorer(mean_squared_error), cv=5)\n",
    "\n",
    "# 3. Performance Metrics Comparison\n",
    "# Compare the results obtained through cross-validation with the previous evaluation metrics\n",
    "# Assess the impact of cross-validation on model performance\n",
    "\n",
    "# Evaluate the model on the entire dataset for comparison\n",
    "rmse_before_cv, r2_before_cv = evaluate_model(model, df_pca_imputed.drop('target_column', axis=1), df_pca_imputed['target_column'])\n",
    "\n",
    "# Display results\n",
    "print(\"\\nModel Evaluation Before Cross-Validation:\")\n",
    "print(f\"RMSE: {rmse_before_cv}\")\n",
    "print(f\"R2: {r2_before_cv}\")\n",
    "\n",
    "# Display cross-validation results\n",
    "print(\"\\nCross-Validation Results:\")\n",
    "print(\"Mean RMSE:\", cv_results.mean())\n",
    "print(\"Std RMSE:\", cv_results.std())\n",
    "\n",
    "# 4. Documentation\n",
    "# Update the project's README with details on the implemented cross-validation process\n",
    "# Provide insights into how cross-validation enhances the reliability of model evaluation\n",
    "\n",
    "# Add relevant information to your README file about the chosen cross-validation technique and its impact"
   ]
  }
 ],
 "metadata": {
  "colab": {
   "provenance": []
  },
  "kernelspec": {
   "display_name": "Python 3",
   "language": "python",
   "name": "python3"
  },
  "language_info": {
   "codemirror_mode": {
    "name": "ipython",
    "version": 3
   },
   "file_extension": ".py",
   "mimetype": "text/x-python",
   "name": "python",
   "nbconvert_exporter": "python",
   "pygments_lexer": "ipython3",
   "version": "3.8.5"
  }
 },
 "nbformat": 4,
 "nbformat_minor": 1
}
